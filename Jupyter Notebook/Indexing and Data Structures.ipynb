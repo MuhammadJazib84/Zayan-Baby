{
 "cells": [
  {
   "cell_type": "markdown",
   "id": "be9e56f9",
   "metadata": {},
   "source": [
    "-Index"
   ]
  },
  {
   "cell_type": "code",
   "execution_count": 2,
   "id": "822ccfdb",
   "metadata": {
    "scrolled": true
   },
   "outputs": [
    {
     "data": {
      "text/plain": [
       "'Smosa Pakora'"
      ]
     },
     "execution_count": 2,
     "metadata": {},
     "output_type": "execute_result"
    }
   ],
   "source": [
    "#Make a string\n",
    "a=\"Smosa Pakora\"\n",
    "a"
   ]
  },
  {
   "cell_type": "code",
   "execution_count": 7,
   "id": "e12d9832",
   "metadata": {},
   "outputs": [
    {
     "data": {
      "text/plain": [
       "12"
      ]
     },
     "execution_count": 7,
     "metadata": {},
     "output_type": "execute_result"
    }
   ],
   "source": [
    "#len of index\n",
    "len(a)"
   ]
  },
  {
   "cell_type": "code",
   "execution_count": 3,
   "id": "6dc49e04",
   "metadata": {},
   "outputs": [
    {
     "data": {
      "text/plain": [
       "'S'"
      ]
     },
     "execution_count": 3,
     "metadata": {},
     "output_type": "execute_result"
    }
   ],
   "source": [
    "a[0]"
   ]
  },
  {
   "cell_type": "code",
   "execution_count": 4,
   "id": "b76ed9d8",
   "metadata": {},
   "outputs": [
    {
     "data": {
      "text/plain": [
       "'m'"
      ]
     },
     "execution_count": 4,
     "metadata": {},
     "output_type": "execute_result"
    }
   ],
   "source": [
    "a[1]"
   ]
  },
  {
   "cell_type": "code",
   "execution_count": 5,
   "id": "f0cb8cd7",
   "metadata": {},
   "outputs": [
    {
     "data": {
      "text/plain": [
       "'s'"
      ]
     },
     "execution_count": 5,
     "metadata": {},
     "output_type": "execute_result"
    }
   ],
   "source": [
    "a[3]"
   ]
  },
  {
   "cell_type": "code",
   "execution_count": 8,
   "id": "105ddec2",
   "metadata": {},
   "outputs": [
    {
     "data": {
      "text/plain": [
       "'a'"
      ]
     },
     "execution_count": 8,
     "metadata": {},
     "output_type": "execute_result"
    }
   ],
   "source": [
    "a[11]"
   ]
  },
  {
   "cell_type": "code",
   "execution_count": 9,
   "id": "6f14a66f",
   "metadata": {},
   "outputs": [
    {
     "data": {
      "text/plain": [
       "' '"
      ]
     },
     "execution_count": 9,
     "metadata": {},
     "output_type": "execute_result"
    }
   ],
   "source": [
    "a[5]"
   ]
  },
  {
   "cell_type": "code",
   "execution_count": 10,
   "id": "addc00ed",
   "metadata": {},
   "outputs": [
    {
     "data": {
      "text/plain": [
       "'Smosa'"
      ]
     },
     "execution_count": 10,
     "metadata": {},
     "output_type": "execute_result"
    }
   ],
   "source": [
    "#last index is exclusive to add to index 4 we will have to go to 5\n",
    "a[0:5]"
   ]
  },
  {
   "cell_type": "code",
   "execution_count": 11,
   "id": "e3c02dc2",
   "metadata": {},
   "outputs": [
    {
     "data": {
      "text/plain": [
       "'a'"
      ]
     },
     "execution_count": 11,
     "metadata": {},
     "output_type": "execute_result"
    }
   ],
   "source": [
    "#reverse sequence starts with -1\n",
    "a[-1]"
   ]
  },
  {
   "cell_type": "code",
   "execution_count": 16,
   "id": "0b23b109",
   "metadata": {},
   "outputs": [
    {
     "data": {
      "text/plain": [
       "'Pakor'"
      ]
     },
     "execution_count": 16,
     "metadata": {},
     "output_type": "execute_result"
    }
   ],
   "source": [
    "a[-6:-1] #not a proper way to use indexing it will miss last element"
   ]
  },
  {
   "cell_type": "code",
   "execution_count": 17,
   "id": "6f3b5f4c",
   "metadata": {},
   "outputs": [
    {
     "data": {
      "text/plain": [
       "'Pakora'"
      ]
     },
     "execution_count": 17,
     "metadata": {},
     "output_type": "execute_result"
    }
   ],
   "source": [
    "a[-6:12] #we will have to provide whole command"
   ]
  },
  {
   "cell_type": "code",
   "execution_count": 19,
   "id": "83c1379e",
   "metadata": {},
   "outputs": [
    {
     "data": {
      "text/plain": [
       "'biryani'"
      ]
     },
     "execution_count": 19,
     "metadata": {},
     "output_type": "execute_result"
    }
   ],
   "source": [
    "food='biryani'\n",
    "food"
   ]
  },
  {
   "cell_type": "markdown",
   "id": "09cb6bb3",
   "metadata": {},
   "source": [
    "#String Methods"
   ]
  },
  {
   "cell_type": "code",
   "execution_count": 20,
   "id": "a9f4fba6",
   "metadata": {},
   "outputs": [
    {
     "data": {
      "text/plain": [
       "'biryani'"
      ]
     },
     "execution_count": 20,
     "metadata": {},
     "output_type": "execute_result"
    }
   ],
   "source": [
    "food"
   ]
  },
  {
   "cell_type": "code",
   "execution_count": 21,
   "id": "69fbf9d6",
   "metadata": {},
   "outputs": [
    {
     "data": {
      "text/plain": [
       "'BIRYANI'"
      ]
     },
     "execution_count": 21,
     "metadata": {},
     "output_type": "execute_result"
    }
   ],
   "source": [
    "#Uppercase letters\n",
    "food.upper()"
   ]
  },
  {
   "cell_type": "code",
   "execution_count": 22,
   "id": "d85c0354",
   "metadata": {},
   "outputs": [
    {
     "data": {
      "text/plain": [
       "'Biryani'"
      ]
     },
     "execution_count": 22,
     "metadata": {},
     "output_type": "execute_result"
    }
   ],
   "source": [
    "#Capitalize first letter\n",
    "food.capitalize()"
   ]
  },
  {
   "cell_type": "code",
   "execution_count": 23,
   "id": "2b54a218",
   "metadata": {},
   "outputs": [
    {
     "data": {
      "text/plain": [
       "'biryani'"
      ]
     },
     "execution_count": 23,
     "metadata": {},
     "output_type": "execute_result"
    }
   ],
   "source": [
    "#lower letter\n",
    "food.lower()"
   ]
  },
  {
   "cell_type": "code",
   "execution_count": 24,
   "id": "cb0eab4d",
   "metadata": {},
   "outputs": [
    {
     "data": {
      "text/plain": [
       "'shiryani'"
      ]
     },
     "execution_count": 24,
     "metadata": {},
     "output_type": "execute_result"
    }
   ],
   "source": [
    "#Repalce element in food\n",
    "food.replace(\"b\",\"sh\")"
   ]
  },
  {
   "cell_type": "code",
   "execution_count": 26,
   "id": "ca7776f3",
   "metadata": {},
   "outputs": [
    {
     "data": {
      "text/plain": [
       "'baba_ammar with Dr Ammar tufail'"
      ]
     },
     "execution_count": 26,
     "metadata": {},
     "output_type": "execute_result"
    }
   ],
   "source": [
    "#counting a specific alphabet in stri\n",
    "name=\"baba_ammar with Dr Ammar tufail\"\n",
    "name"
   ]
  },
  {
   "cell_type": "code",
   "execution_count": 27,
   "id": "dff4771f",
   "metadata": {},
   "outputs": [
    {
     "data": {
      "text/plain": [
       "6"
      ]
     },
     "execution_count": 27,
     "metadata": {},
     "output_type": "execute_result"
    }
   ],
   "source": [
    "name.count('a')"
   ]
  },
  {
   "cell_type": "code",
   "execution_count": 28,
   "id": "41975617",
   "metadata": {},
   "outputs": [
    {
     "data": {
      "text/plain": [
       "1"
      ]
     },
     "execution_count": 28,
     "metadata": {},
     "output_type": "execute_result"
    }
   ],
   "source": [
    "food.count(\"y\")"
   ]
  },
  {
   "cell_type": "code",
   "execution_count": 29,
   "id": "453efc06",
   "metadata": {},
   "outputs": [
    {
     "data": {
      "text/plain": [
       "31"
      ]
     },
     "execution_count": 29,
     "metadata": {},
     "output_type": "execute_result"
    }
   ],
   "source": [
    "len(name)"
   ]
  },
  {
   "cell_type": "code",
   "execution_count": 30,
   "id": "9d6c46ef",
   "metadata": {},
   "outputs": [
    {
     "data": {
      "text/plain": [
       "'baba_ammar'"
      ]
     },
     "execution_count": 30,
     "metadata": {},
     "output_type": "execute_result"
    }
   ],
   "source": [
    "name[0:10]"
   ]
  },
  {
   "cell_type": "markdown",
   "id": "76c1ebc3",
   "metadata": {},
   "source": [
    "### an index number in string"
   ]
  },
  {
   "cell_type": "code",
   "execution_count": 31,
   "id": "8f18f9b3",
   "metadata": {},
   "outputs": [
    {
     "data": {
      "text/plain": [
       "'baba_ammar with Dr Ammar tufail'"
      ]
     },
     "execution_count": 31,
     "metadata": {},
     "output_type": "execute_result"
    }
   ],
   "source": [
    "#counting a specific alphabet in stri\n",
    "name=\"baba_ammar with Dr Ammar tufail\"\n",
    "name"
   ]
  },
  {
   "cell_type": "code",
   "execution_count": 33,
   "id": "1e750880",
   "metadata": {},
   "outputs": [
    {
     "data": {
      "text/plain": [
       "16"
      ]
     },
     "execution_count": 33,
     "metadata": {},
     "output_type": "execute_result"
    }
   ],
   "source": [
    "name.find(\"D\")"
   ]
  },
  {
   "cell_type": "code",
   "execution_count": 34,
   "id": "e20458b2",
   "metadata": {},
   "outputs": [
    {
     "data": {
      "text/plain": [
       "1"
      ]
     },
     "execution_count": 34,
     "metadata": {},
     "output_type": "execute_result"
    }
   ],
   "source": [
    "name.find('a')"
   ]
  },
  {
   "cell_type": "code",
   "execution_count": 35,
   "id": "400fc3a4",
   "metadata": {},
   "outputs": [
    {
     "data": {
      "text/plain": [
       "6"
      ]
     },
     "execution_count": 35,
     "metadata": {},
     "output_type": "execute_result"
    }
   ],
   "source": [
    "name.find(\"mm\")"
   ]
  },
  {
   "cell_type": "code",
   "execution_count": 36,
   "id": "eb8eb2f8",
   "metadata": {},
   "outputs": [
    {
     "data": {
      "text/plain": [
       "'i love smosa, pakaora, raita, biryani and karahi'"
      ]
     },
     "execution_count": 36,
     "metadata": {},
     "output_type": "execute_result"
    }
   ],
   "source": [
    "#Split a string\n",
    "food= \"i love smosa, pakaora, raita, biryani and karahi\"\n",
    "food"
   ]
  },
  {
   "cell_type": "code",
   "execution_count": 38,
   "id": "7480b684",
   "metadata": {},
   "outputs": [
    {
     "data": {
      "text/plain": [
       "['i love smosa', ' pakaora', ' raita', ' biryani and karahi']"
      ]
     },
     "execution_count": 38,
     "metadata": {},
     "output_type": "execute_result"
    }
   ],
   "source": [
    "food.split(\",\")"
   ]
  },
  {
   "cell_type": "markdown",
   "id": "db97bcb5",
   "metadata": {},
   "source": [
    "#Basic Data Structures in Python#"
   ]
  },
  {
   "cell_type": "markdown",
   "id": "98baa9db",
   "metadata": {},
   "source": [
    "##Tuples##"
   ]
  },
  {
   "cell_type": "markdown",
   "id": "f01c975f",
   "metadata": {},
   "source": [
    "#Properties of Tuples:\n",
    "1. Enclosed in ()\n",
    "2. Ordered\n",
    "3. Different Kind of Elements can be stored\n",
    "4. Once elemenrs are stored cannot be changed. Unmutateable"
   ]
  },
  {
   "cell_type": "code",
   "execution_count": 46,
   "id": "efd45a9e",
   "metadata": {},
   "outputs": [
    {
     "name": "stdout",
     "output_type": "stream",
     "text": [
      "(1, 'python', 'true', '3.5')\n"
     ]
    },
    {
     "data": {
      "text/plain": [
       "tuple"
      ]
     },
     "execution_count": 46,
     "metadata": {},
     "output_type": "execute_result"
    }
   ],
   "source": [
    "tuple1 = (1, 'python', 'true', '3.5')\n",
    "print(tuple1)\n",
    "type(tuple1)"
   ]
  },
  {
   "cell_type": "code",
   "execution_count": 48,
   "id": "dfc4332f",
   "metadata": {},
   "outputs": [
    {
     "data": {
      "text/plain": [
       "tuple"
      ]
     },
     "execution_count": 48,
     "metadata": {},
     "output_type": "execute_result"
    }
   ],
   "source": [
    "tup=(1,4,5,5.5)\n",
    "type(tup)"
   ]
  },
  {
   "cell_type": "markdown",
   "id": "4a1f66e5",
   "metadata": {},
   "source": [
    "### indexing in tuple###"
   ]
  },
  {
   "cell_type": "code",
   "execution_count": 51,
   "id": "5834de2b",
   "metadata": {},
   "outputs": [
    {
     "data": {
      "text/plain": [
       "'true'"
      ]
     },
     "execution_count": 51,
     "metadata": {},
     "output_type": "execute_result"
    }
   ],
   "source": [
    "tuple1[2]"
   ]
  },
  {
   "cell_type": "code",
   "execution_count": 55,
   "id": "4002ed1f",
   "metadata": {},
   "outputs": [
    {
     "data": {
      "text/plain": [
       "(1, 'python', 'true')"
      ]
     },
     "execution_count": 55,
     "metadata": {},
     "output_type": "execute_result"
    }
   ],
   "source": [
    "tuple1[0:3]"
   ]
  },
  {
   "cell_type": "code",
   "execution_count": 56,
   "id": "768ad837",
   "metadata": {},
   "outputs": [
    {
     "data": {
      "text/plain": [
       "4"
      ]
     },
     "execution_count": 56,
     "metadata": {},
     "output_type": "execute_result"
    }
   ],
   "source": [
    "len(tuple1)"
   ]
  },
  {
   "cell_type": "code",
   "execution_count": 58,
   "id": "af9e297e",
   "metadata": {},
   "outputs": [],
   "source": [
    "tuple2=(1, 'jazib','zayan,3.5')"
   ]
  },
  {
   "cell_type": "code",
   "execution_count": 65,
   "id": "3aaf908a",
   "metadata": {},
   "outputs": [
    {
     "data": {
      "text/plain": [
       "(1, 'python', 'true', '3.5', 1, 'jazib', 'zayan,3.5')"
      ]
     },
     "execution_count": 65,
     "metadata": {},
     "output_type": "execute_result"
    }
   ],
   "source": [
    "#concatenate is adding w or more tuples\n",
    "tuple1+tuple2"
   ]
  },
  {
   "cell_type": "code",
   "execution_count": 60,
   "id": "9baf0db7",
   "metadata": {},
   "outputs": [
    {
     "data": {
      "text/plain": [
       "(1,\n",
       " 'python',\n",
       " 'true',\n",
       " '3.5',\n",
       " 1,\n",
       " 'python',\n",
       " 'true',\n",
       " '3.5',\n",
       " 1,\n",
       " 'jazib',\n",
       " 'zayan,3.5')"
      ]
     },
     "execution_count": 60,
     "metadata": {},
     "output_type": "execute_result"
    }
   ],
   "source": [
    "tuple1*2+tuple2"
   ]
  },
  {
   "cell_type": "code",
   "execution_count": 61,
   "id": "1e448475",
   "metadata": {},
   "outputs": [],
   "source": [
    "tuple3=(20,23,25,34,67,76)"
   ]
  },
  {
   "cell_type": "code",
   "execution_count": 62,
   "id": "eadee5f0",
   "metadata": {},
   "outputs": [
    {
     "data": {
      "text/plain": [
       "20"
      ]
     },
     "execution_count": 62,
     "metadata": {},
     "output_type": "execute_result"
    }
   ],
   "source": [
    "min(tuple3)"
   ]
  },
  {
   "cell_type": "code",
   "execution_count": 63,
   "id": "a29765a3",
   "metadata": {},
   "outputs": [
    {
     "data": {
      "text/plain": [
       "76"
      ]
     },
     "execution_count": 63,
     "metadata": {},
     "output_type": "execute_result"
    }
   ],
   "source": [
    "max(tuple3)"
   ]
  },
  {
   "cell_type": "code",
   "execution_count": 64,
   "id": "95c439b7",
   "metadata": {},
   "outputs": [
    {
     "data": {
      "text/plain": [
       "(20, 23, 25, 34, 67, 76, 20, 23, 25, 34, 67, 76)"
      ]
     },
     "execution_count": 64,
     "metadata": {},
     "output_type": "execute_result"
    }
   ],
   "source": [
    "tuple3*2"
   ]
  },
  {
   "cell_type": "markdown",
   "id": "00f06560",
   "metadata": {},
   "source": [
    "---"
   ]
  },
  {
   "cell_type": "markdown",
   "id": "8b818601",
   "metadata": {},
   "source": [
    "###Lists###\n",
    "1. Ordered collection of elements\n",
    "2. Enclosed in square brackets []\n",
    "3. Mutataable can be changed"
   ]
  },
  {
   "cell_type": "code",
   "execution_count": 68,
   "id": "d521c857",
   "metadata": {},
   "outputs": [
    {
     "data": {
      "text/plain": [
       "[1, 2, 4, 3.5, 'jazib']"
      ]
     },
     "execution_count": 68,
     "metadata": {},
     "output_type": "execute_result"
    }
   ],
   "source": [
    "list1=[1,2,4,3.5,'jazib']\n",
    "list1"
   ]
  },
  {
   "cell_type": "code",
   "execution_count": 69,
   "id": "3d5c530f",
   "metadata": {
    "scrolled": true
   },
   "outputs": [
    {
     "data": {
      "text/plain": [
       "list"
      ]
     },
     "execution_count": 69,
     "metadata": {},
     "output_type": "execute_result"
    }
   ],
   "source": [
    "type(list1)"
   ]
  },
  {
   "cell_type": "code",
   "execution_count": 70,
   "id": "7e3915cf",
   "metadata": {},
   "outputs": [
    {
     "data": {
      "text/plain": [
       "5"
      ]
     },
     "execution_count": 70,
     "metadata": {},
     "output_type": "execute_result"
    }
   ],
   "source": [
    "len(list1)"
   ]
  },
  {
   "cell_type": "code",
   "execution_count": 71,
   "id": "d398bfa8",
   "metadata": {},
   "outputs": [
    {
     "data": {
      "text/plain": [
       "2"
      ]
     },
     "execution_count": 71,
     "metadata": {},
     "output_type": "execute_result"
    }
   ],
   "source": [
    "list1[1]"
   ]
  },
  {
   "cell_type": "code",
   "execution_count": 76,
   "id": "a2337016",
   "metadata": {},
   "outputs": [
    {
     "data": {
      "text/plain": [
       "[2, 'jazib', 'zayan', 478, 53.4, 'false']"
      ]
     },
     "execution_count": 76,
     "metadata": {},
     "output_type": "execute_result"
    }
   ],
   "source": [
    "list2=[2,'jazib','zayan',478,53.4,\"false\"]\n",
    "list2"
   ]
  },
  {
   "cell_type": "code",
   "execution_count": 77,
   "id": "c5bce5cb",
   "metadata": {},
   "outputs": [
    {
     "data": {
      "text/plain": [
       "[1, 2, 4, 3.5, 'jazib', 2, 'jazib', 'zayan', 478, 53.4, 'false']"
      ]
     },
     "execution_count": 77,
     "metadata": {},
     "output_type": "execute_result"
    }
   ],
   "source": [
    "list1+list2"
   ]
  },
  {
   "cell_type": "code",
   "execution_count": 84,
   "id": "5a5504c8",
   "metadata": {},
   "outputs": [
    {
     "data": {
      "text/plain": [
       "[2, 'jazib', 'zayan', 478, 53.4, 'false']"
      ]
     },
     "execution_count": 84,
     "metadata": {},
     "output_type": "execute_result"
    }
   ],
   "source": [
    "list1*2\n",
    "list2"
   ]
  },
  {
   "cell_type": "code",
   "execution_count": 89,
   "id": "623633fa",
   "metadata": {},
   "outputs": [
    {
     "data": {
      "text/plain": [
       "['false', 53.4, 478, 'zayan', 'jazib', 2]"
      ]
     },
     "execution_count": 89,
     "metadata": {},
     "output_type": "execute_result"
    }
   ],
   "source": [
    "list2.reverse()\n",
    "list2"
   ]
  },
  {
   "cell_type": "code",
   "execution_count": 83,
   "id": "073253c2",
   "metadata": {},
   "outputs": [
    {
     "data": {
      "text/plain": [
       "[2, 'jazib', 'zayan', 478, 53.4, 'false']"
      ]
     },
     "execution_count": 83,
     "metadata": {},
     "output_type": "execute_result"
    }
   ],
   "source": [
    "list2.reverse()\n",
    "list2"
   ]
  },
  {
   "cell_type": "code",
   "execution_count": 85,
   "id": "377a22cb",
   "metadata": {},
   "outputs": [
    {
     "data": {
      "text/plain": [
       "['false', 53.4, 478, 'zayan', 'jazib', 2]"
      ]
     },
     "execution_count": 85,
     "metadata": {},
     "output_type": "execute_result"
    }
   ],
   "source": [
    "list2.reverse()\n",
    "list2"
   ]
  },
  {
   "cell_type": "code",
   "execution_count": 95,
   "id": "39b2837b",
   "metadata": {},
   "outputs": [
    {
     "data": {
      "text/plain": [
       "['false', 53.4, 478, 'zayan', 'jazib', 2, 'bc', 'bc', 'bc', 'bc']"
      ]
     },
     "execution_count": 95,
     "metadata": {},
     "output_type": "execute_result"
    }
   ],
   "source": [
    "list2.append('bc') #only one append at a time\n",
    "list2"
   ]
  },
  {
   "cell_type": "code",
   "execution_count": 96,
   "id": "2367564c",
   "metadata": {},
   "outputs": [
    {
     "data": {
      "text/plain": [
       "[]"
      ]
     },
     "execution_count": 96,
     "metadata": {},
     "output_type": "execute_result"
    }
   ],
   "source": [
    "list4=[4,3,'zayan',7]\n",
    "list4.clear()\n",
    "list4"
   ]
  },
  {
   "cell_type": "code",
   "execution_count": 97,
   "id": "a48b4f92",
   "metadata": {},
   "outputs": [
    {
     "data": {
      "text/plain": [
       "[23, 24, 45, 'huzi']"
      ]
     },
     "execution_count": 97,
     "metadata": {},
     "output_type": "execute_result"
    }
   ],
   "source": [
    "list4=[23,24,45,'huzi']\n",
    "list4"
   ]
  },
  {
   "cell_type": "code",
   "execution_count": 100,
   "id": "a520cf92",
   "metadata": {},
   "outputs": [
    {
     "data": {
      "text/plain": [
       "1"
      ]
     },
     "execution_count": 100,
     "metadata": {},
     "output_type": "execute_result"
    }
   ],
   "source": [
    "list4.count(23)"
   ]
  },
  {
   "cell_type": "code",
   "execution_count": 108,
   "id": "eccab1ff",
   "metadata": {},
   "outputs": [
    {
     "data": {
      "text/plain": [
       "[23,\n",
       " 24,\n",
       " 45,\n",
       " 'huzi',\n",
       " 1,\n",
       " 2,\n",
       " 4,\n",
       " 3.5,\n",
       " 'jazib',\n",
       " 1,\n",
       " 2,\n",
       " 4,\n",
       " 3.5,\n",
       " 'jazib',\n",
       " 1,\n",
       " 2,\n",
       " 4,\n",
       " 3.5,\n",
       " 'jazib',\n",
       " 'de',\n",
       " 34,\n",
       " 67]"
      ]
     },
     "execution_count": 108,
     "metadata": {},
     "output_type": "execute_result"
    }
   ],
   "source": [
    "list4"
   ]
  },
  {
   "cell_type": "code",
   "execution_count": 111,
   "id": "dac23717",
   "metadata": {},
   "outputs": [
    {
     "data": {
      "text/plain": [
       "0"
      ]
     },
     "execution_count": 111,
     "metadata": {},
     "output_type": "execute_result"
    }
   ],
   "source": [
    "list5=['we',56,87,'edr']\n",
    "list5.index('we')"
   ]
  },
  {
   "cell_type": "code",
   "execution_count": 113,
   "id": "e6fb1b66",
   "metadata": {},
   "outputs": [
    {
     "data": {
      "text/plain": [
       "['we', 'p', 56, 87, 'edr']"
      ]
     },
     "execution_count": 113,
     "metadata": {},
     "output_type": "execute_result"
    }
   ],
   "source": [
    "list5.insert(1,'p') #index and what to add required\n",
    "list5"
   ]
  },
  {
   "cell_type": "code",
   "execution_count": 116,
   "id": "db46f5fb",
   "metadata": {},
   "outputs": [
    {
     "data": {
      "text/plain": [
       "'edr'"
      ]
     },
     "execution_count": 116,
     "metadata": {},
     "output_type": "execute_result"
    }
   ],
   "source": [
    "list5.pop(2) #removes the certain index and gives"
   ]
  },
  {
   "cell_type": "code",
   "execution_count": 117,
   "id": "7de8c151",
   "metadata": {},
   "outputs": [
    {
     "data": {
      "text/plain": [
       "['we', 'p']"
      ]
     },
     "execution_count": 117,
     "metadata": {},
     "output_type": "execute_result"
    }
   ],
   "source": [
    "list5"
   ]
  },
  {
   "cell_type": "code",
   "execution_count": 118,
   "id": "ac466f16",
   "metadata": {},
   "outputs": [],
   "source": [
    "list5.insert(2,'edr')"
   ]
  },
  {
   "cell_type": "code",
   "execution_count": 119,
   "id": "1f01ab76",
   "metadata": {},
   "outputs": [
    {
     "data": {
      "text/plain": [
       "['we', 'p', 'edr', 56]"
      ]
     },
     "execution_count": 119,
     "metadata": {},
     "output_type": "execute_result"
    }
   ],
   "source": [
    "list5.insert(3,56)\n",
    "list5"
   ]
  },
  {
   "cell_type": "code",
   "execution_count": 121,
   "id": "eca8d552",
   "metadata": {},
   "outputs": [
    {
     "data": {
      "text/plain": [
       "[1, 3, 4, 6, 7]"
      ]
     },
     "execution_count": 121,
     "metadata": {},
     "output_type": "execute_result"
    }
   ],
   "source": [
    "list=[4,6,3,7,1]\n",
    "list.sort()\n",
    "list"
   ]
  },
  {
   "cell_type": "code",
   "execution_count": 123,
   "id": "1582d8b1",
   "metadata": {},
   "outputs": [
    {
     "data": {
      "text/plain": [
       "12"
      ]
     },
     "execution_count": 123,
     "metadata": {},
     "output_type": "execute_result"
    }
   ],
   "source": [
    "list7=[1,5,6,7,12,34,56,87,98,34,67,12]\n",
    "len(list7)"
   ]
  },
  {
   "cell_type": "markdown",
   "id": "59c00d65",
   "metadata": {},
   "source": [
    "###Dictionaries###\n",
    "1. Unordred elements\n",
    "2. comes with a key and value\n",
    "3. mutateable\n",
    "4. enclosed in {}"
   ]
  },
  {
   "cell_type": "code",
   "execution_count": 127,
   "id": "e13cac57",
   "metadata": {},
   "outputs": [
    {
     "data": {
      "text/plain": [
       "{'tiiki': 10, 'samosa': 30, 'barfi': 24, 'pakora': 50, 'rice': 100}"
      ]
     },
     "execution_count": 127,
     "metadata": {},
     "output_type": "execute_result"
    }
   ],
   "source": [
    "food1={\"tiiki\":10,\"samosa\":30,\"barfi\":24,\"pakora\":50,\"rice\":100}\n",
    "food1"
   ]
  },
  {
   "cell_type": "code",
   "execution_count": 131,
   "id": "82bb4a1f",
   "metadata": {},
   "outputs": [
    {
     "data": {
      "text/plain": [
       "dict"
      ]
     },
     "execution_count": 131,
     "metadata": {},
     "output_type": "execute_result"
    }
   ],
   "source": [
    "type(food1)"
   ]
  },
  {
   "cell_type": "code",
   "execution_count": 132,
   "id": "24e44177",
   "metadata": {},
   "outputs": [
    {
     "data": {
      "text/plain": [
       "dict_values([10, 30, 24, 50, 100])"
      ]
     },
     "execution_count": 132,
     "metadata": {},
     "output_type": "execute_result"
    }
   ],
   "source": [
    "food1.values()"
   ]
  },
  {
   "cell_type": "code",
   "execution_count": 133,
   "id": "e055acf0",
   "metadata": {},
   "outputs": [
    {
     "data": {
      "text/plain": [
       "dict_keys(['tiiki', 'samosa', 'barfi', 'pakora', 'rice'])"
      ]
     },
     "execution_count": 133,
     "metadata": {},
     "output_type": "execute_result"
    }
   ],
   "source": [
    "food1.keys()"
   ]
  },
  {
   "cell_type": "code",
   "execution_count": 137,
   "id": "63754b4a",
   "metadata": {},
   "outputs": [
    {
     "data": {
      "text/plain": [
       "{'tiiki': 10, 'samosa': 30, 'barfi': 24, 'pakora': 50, 'rice': 100, 'Nann': 20}"
      ]
     },
     "execution_count": 137,
     "metadata": {},
     "output_type": "execute_result"
    }
   ],
   "source": [
    "food1[\"Nann\"]=20 #adding new element to a dictionary\n",
    "food1"
   ]
  },
  {
   "cell_type": "code",
   "execution_count": 138,
   "id": "e5dadddf",
   "metadata": {},
   "outputs": [
    {
     "data": {
      "text/plain": [
       "{'tiiki': 10, 'samosa': 30, 'barfi': 24, 'pakora': 50, 'rice': 200, 'Nann': 20}"
      ]
     },
     "execution_count": 138,
     "metadata": {},
     "output_type": "execute_result"
    }
   ],
   "source": [
    "food1[\"rice\"]=200\n",
    "food1"
   ]
  },
  {
   "cell_type": "code",
   "execution_count": 139,
   "id": "825749ab",
   "metadata": {},
   "outputs": [
    {
     "data": {
      "text/plain": [
       "{'dates': 40, 'choclates': 300, 'swaian': 1000}"
      ]
     },
     "execution_count": 139,
     "metadata": {},
     "output_type": "execute_result"
    }
   ],
   "source": [
    "food2={\"dates\":40,\"choclates\":300,\"swaian\":1000}\n",
    "food2"
   ]
  },
  {
   "cell_type": "code",
   "execution_count": 144,
   "id": "1d4eb0a3",
   "metadata": {},
   "outputs": [
    {
     "data": {
      "text/plain": [
       "{'tiiki': 10,\n",
       " 'samosa': 30,\n",
       " 'barfi': 24,\n",
       " 'pakora': 50,\n",
       " 'rice': 200,\n",
       " 'Nann': 20,\n",
       " 'dates': 40,\n",
       " 'choclates': 300,\n",
       " 'swaian': 1000}"
      ]
     },
     "execution_count": 144,
     "metadata": {},
     "output_type": "execute_result"
    }
   ],
   "source": [
    "#concatenate not simple as tuples and lists\n",
    "food1.update(food2)\n",
    "food1"
   ]
  },
  {
   "cell_type": "markdown",
   "id": "45ff1abc",
   "metadata": {},
   "source": [
    "###sets###\n",
    "1. unordered and unindexed\n",
    "2. used with {}\n",
    "3. no duplicates applowed\n",
    "4. No boolan operators\n",
    "5. only strings, integers and floats\n",
    "6. are mutable"
   ]
  },
  {
   "cell_type": "code",
   "execution_count": 145,
   "id": "1e973cd3",
   "metadata": {},
   "outputs": [
    {
     "data": {
      "text/plain": [
       "{'baba', 'chahcu', 'dado', 'wasay', 'zaya'}"
      ]
     },
     "execution_count": 145,
     "metadata": {},
     "output_type": "execute_result"
    }
   ],
   "source": [
    "set1={\"zaya\",\"wasay\",\"baba\",\"dado\",\"chahcu\"}\n",
    "set1"
   ]
  },
  {
   "cell_type": "code",
   "execution_count": 146,
   "id": "418b9dde",
   "metadata": {},
   "outputs": [
    {
     "data": {
      "text/plain": [
       "set"
      ]
     },
     "execution_count": 146,
     "metadata": {},
     "output_type": "execute_result"
    }
   ],
   "source": [
    "type(set1)"
   ]
  },
  {
   "cell_type": "code",
   "execution_count": 149,
   "id": "004bc498",
   "metadata": {},
   "outputs": [
    {
     "data": {
      "text/plain": [
       "{2, 'baba', 'chahcu', 'dado', 'wasay', 'zaya'}"
      ]
     },
     "execution_count": 149,
     "metadata": {},
     "output_type": "execute_result"
    }
   ],
   "source": [
    "set1.add(2)\n",
    "set1"
   ]
  },
  {
   "cell_type": "code",
   "execution_count": 150,
   "id": "c6a49ed1",
   "metadata": {},
   "outputs": [
    {
     "data": {
      "text/plain": [
       "{'baba', 'chahcu', 'dado', 'wasay', 'zaya'}"
      ]
     },
     "execution_count": 150,
     "metadata": {},
     "output_type": "execute_result"
    }
   ],
   "source": [
    "set1.remove(2)\n",
    "set1"
   ]
  },
  {
   "cell_type": "code",
   "execution_count": 152,
   "id": "5875e8a6",
   "metadata": {},
   "outputs": [
    {
     "data": {
      "text/plain": [
       "set()"
      ]
     },
     "execution_count": 152,
     "metadata": {},
     "output_type": "execute_result"
    }
   ],
   "source": [
    "set1.clear()\n",
    "set1"
   ]
  },
  {
   "cell_type": "code",
   "execution_count": 155,
   "id": "daa8276f",
   "metadata": {},
   "outputs": [
    {
     "data": {
      "text/plain": [
       "{'jazib', 'wasay', 'zayan'}"
      ]
     },
     "execution_count": 155,
     "metadata": {},
     "output_type": "execute_result"
    }
   ],
   "source": [
    "set1={\"jazib\",\"ragib\",\"zayan\",\"wasay\"}\n",
    "set2={\"jazib\",\"wasay\",\"zayan\"}\n",
    "set1\n",
    "set2"
   ]
  },
  {
   "cell_type": "code",
   "execution_count": 5,
   "id": "a912da13",
   "metadata": {},
   "outputs": [
    {
     "ename": "NameError",
     "evalue": "name 'set1' is not defined",
     "output_type": "error",
     "traceback": [
      "\u001b[1;31m---------------------------------------------------------------------------\u001b[0m",
      "\u001b[1;31mNameError\u001b[0m                                 Traceback (most recent call last)",
      "\u001b[1;32m~\\AppData\\Local\\Temp\\ipykernel_8264\\2863440415.py\u001b[0m in \u001b[0;36m<module>\u001b[1;34m\u001b[0m\n\u001b[1;32m----> 1\u001b[1;33m \u001b[0mset1\u001b[0m\u001b[1;33m.\u001b[0m\u001b[0mdifference\u001b[0m\u001b[1;33m(\u001b[0m\u001b[0mset2\u001b[0m\u001b[1;33m)\u001b[0m\u001b[1;33m\u001b[0m\u001b[1;33m\u001b[0m\u001b[0m\n\u001b[0m\u001b[0;32m      2\u001b[0m \u001b[0mset1\u001b[0m\u001b[1;33m\u001b[0m\u001b[1;33m\u001b[0m\u001b[0m\n",
      "\u001b[1;31mNameError\u001b[0m: name 'set1' is not defined"
     ]
    }
   ],
   "source": [
    "set1.difference(set2)"
   ]
  },
  {
   "cell_type": "code",
   "execution_count": 157,
   "id": "a8459533",
   "metadata": {},
   "outputs": [
    {
     "data": {
      "text/plain": [
       "<function set.difference_update>"
      ]
     },
     "execution_count": 157,
     "metadata": {},
     "output_type": "execute_result"
    }
   ],
   "source": [
    "set1.difference_update"
   ]
  },
  {
   "cell_type": "code",
   "execution_count": 1,
   "id": "04b0792d",
   "metadata": {},
   "outputs": [
    {
     "data": {
      "text/plain": [
       "float"
      ]
     },
     "execution_count": 1,
     "metadata": {},
     "output_type": "execute_result"
    }
   ],
   "source": [
    "type(4.5)"
   ]
  },
  {
   "cell_type": "code",
   "execution_count": 4,
   "id": "ec782dfa",
   "metadata": {},
   "outputs": [
    {
     "data": {
      "text/plain": [
       "{'arooj', 'mahvish', 'nabeela', 'shiza'}"
      ]
     },
     "execution_count": 4,
     "metadata": {},
     "output_type": "execute_result"
    }
   ],
   "source": [
    "s1={'shiza',\"maria\",'arooj',\"mahvish\",'nabeela','sumera'}\n",
    "s2={'maria','sumera'}\n",
    "s1.difference_update(s2) #removes another set from the set and modifies the set\n",
    "s1"
   ]
  },
  {
   "cell_type": "code",
   "execution_count": 7,
   "id": "d0dd9f1e",
   "metadata": {},
   "outputs": [
    {
     "data": {
      "text/plain": [
       "{'ragib'}"
      ]
     },
     "execution_count": 7,
     "metadata": {},
     "output_type": "execute_result"
    }
   ],
   "source": [
    "set1={\"jazib\",\"ragib\",\"zayan\",\"wasay\"}\n",
    "set2={\"jazib\",\"wasay\",\"zayan\"}\n",
    "set1.difference(set2) #provides difference of two sets in new sets"
   ]
  },
  {
   "cell_type": "code",
   "execution_count": 8,
   "id": "2abc61f7",
   "metadata": {},
   "outputs": [
    {
     "data": {
      "text/plain": [
       "{'jazib', 'ragib', 'wasay', 'zayan'}"
      ]
     },
     "execution_count": 8,
     "metadata": {},
     "output_type": "execute_result"
    }
   ],
   "source": [
    "set1"
   ]
  },
  {
   "cell_type": "code",
   "execution_count": 14,
   "id": "f35abce2",
   "metadata": {},
   "outputs": [
    {
     "data": {
      "text/plain": [
       "{'jazib', 'wasay', 'zayan'}"
      ]
     },
     "execution_count": 14,
     "metadata": {},
     "output_type": "execute_result"
    }
   ],
   "source": [
    "set1.discard(\"ragib\") #discard one element if element not in set wont give error\n",
    "set1"
   ]
  },
  {
   "cell_type": "code",
   "execution_count": 15,
   "id": "b818de28",
   "metadata": {},
   "outputs": [
    {
     "data": {
      "text/plain": [
       "{'jazib', 'wasay', 'zayan'}"
      ]
     },
     "execution_count": 15,
     "metadata": {},
     "output_type": "execute_result"
    }
   ],
   "source": [
    "set1.intersection(set2) #provides same element of 2 sets"
   ]
  },
  {
   "cell_type": "code",
   "execution_count": 18,
   "id": "2ed4f02a",
   "metadata": {},
   "outputs": [
    {
     "data": {
      "text/plain": [
       "{'jazib', 'wasay', 'zayan'}"
      ]
     },
     "execution_count": 18,
     "metadata": {},
     "output_type": "execute_result"
    }
   ],
   "source": [
    "set1={\"jazib\",\"ragib\",\"zayan\",\"wasay\"}\n",
    "set1.intersection_update(set2)  #update set1 to only ommon element of set1 and 2\n",
    "set1"
   ]
  },
  {
   "cell_type": "code",
   "execution_count": 19,
   "id": "5c1e2bcb",
   "metadata": {},
   "outputs": [
    {
     "data": {
      "text/plain": [
       "{'jazib', 'wasay', 'zayan'}"
      ]
     },
     "execution_count": 19,
     "metadata": {},
     "output_type": "execute_result"
    }
   ],
   "source": [
    "set1"
   ]
  },
  {
   "cell_type": "code",
   "execution_count": 22,
   "id": "6e970c1c",
   "metadata": {},
   "outputs": [
    {
     "data": {
      "text/plain": [
       "False"
      ]
     },
     "execution_count": 22,
     "metadata": {},
     "output_type": "execute_result"
    }
   ],
   "source": [
    "set3={'ok',34,56}\n",
    "set4={'ok',56,43,34,'trr'}\n",
    "set3.isdisjoint(set4)"
   ]
  },
  {
   "cell_type": "code",
   "execution_count": 23,
   "id": "ba89e1da",
   "metadata": {},
   "outputs": [
    {
     "data": {
      "text/plain": [
       "True"
      ]
     },
     "execution_count": 23,
     "metadata": {},
     "output_type": "execute_result"
    }
   ],
   "source": [
    "set3.issubset(set4)"
   ]
  },
  {
   "cell_type": "code",
   "execution_count": 24,
   "id": "4823e48f",
   "metadata": {},
   "outputs": [
    {
     "data": {
      "text/plain": [
       "True"
      ]
     },
     "execution_count": 24,
     "metadata": {},
     "output_type": "execute_result"
    }
   ],
   "source": [
    "set4.issuperset(set3)"
   ]
  },
  {
   "cell_type": "code",
   "execution_count": 36,
   "id": "7bf880be",
   "metadata": {},
   "outputs": [
    {
     "data": {
      "text/plain": [
       "set()"
      ]
     },
     "execution_count": 36,
     "metadata": {},
     "output_type": "execute_result"
    }
   ],
   "source": [
    "set3"
   ]
  },
  {
   "cell_type": "code",
   "execution_count": 37,
   "id": "a9803781",
   "metadata": {},
   "outputs": [
    {
     "data": {
      "text/plain": [
       "{34, 56, 'ok'}"
      ]
     },
     "execution_count": 37,
     "metadata": {},
     "output_type": "execute_result"
    }
   ],
   "source": [
    "set3={'ok',34,56}\n",
    "set3"
   ]
  },
  {
   "cell_type": "code",
   "execution_count": 39,
   "id": "48e26ce3",
   "metadata": {},
   "outputs": [
    {
     "data": {
      "text/plain": [
       "{'ok'}"
      ]
     },
     "execution_count": 39,
     "metadata": {},
     "output_type": "execute_result"
    }
   ],
   "source": [
    "set3.pop()  #everytime pop is done it removes a random item from the set\n",
    "set3.update()\n",
    "set3"
   ]
  },
  {
   "cell_type": "code",
   "execution_count": 46,
   "id": "a6ee377d",
   "metadata": {},
   "outputs": [
    {
     "data": {
      "text/plain": [
       "{'arooj', 'fuck', 'mahvish', 'nabeela', 'no fuck', 'ok fuck', 'shiza'}"
      ]
     },
     "execution_count": 46,
     "metadata": {},
     "output_type": "execute_result"
    }
   ],
   "source": [
    "set3={'fuck','no fuck','ok fuck','shiza'}\n",
    "set3.union(s1)"
   ]
  },
  {
   "cell_type": "code",
   "execution_count": 47,
   "id": "bdd6eb16",
   "metadata": {},
   "outputs": [
    {
     "data": {
      "text/plain": [
       "{'fuck', 'no fuck', 'ok fuck', 'shiza'}"
      ]
     },
     "execution_count": 47,
     "metadata": {},
     "output_type": "execute_result"
    }
   ],
   "source": [
    "set3={'fuck','no fuck','ok fuck','shiza'}\n",
    "set3"
   ]
  },
  {
   "cell_type": "code",
   "execution_count": 48,
   "id": "7f4e97bd",
   "metadata": {},
   "outputs": [
    {
     "data": {
      "text/plain": [
       "{'arooj', 'fuck', 'mahvish', 'nabeela', 'no fuck', 'ok fuck'}"
      ]
     },
     "execution_count": 48,
     "metadata": {},
     "output_type": "execute_result"
    }
   ],
   "source": [
    "set3.symmetric_difference(s1)#disjunctive set elements that are in both sets but not in intersection its a union set wthout intersection elements of two"
   ]
  },
  {
   "cell_type": "code",
   "execution_count": 51,
   "id": "7a049530",
   "metadata": {},
   "outputs": [
    {
     "data": {
      "text/plain": [
       "{'arooj', 'fuck', 'mahvish', 'nabeela', 'no fuck', 'ok fuck'}"
      ]
     },
     "execution_count": 51,
     "metadata": {},
     "output_type": "execute_result"
    }
   ],
   "source": [
    "set3.symmetric_difference_update(s1) #updates set3 to symmetric difference of two sets i.e set3 and s1\n",
    "set3"
   ]
  },
  {
   "cell_type": "code",
   "execution_count": 53,
   "id": "d7ee2b01",
   "metadata": {},
   "outputs": [
    {
     "data": {
      "text/plain": [
       "('jazib', 'raghib', '34', '56')"
      ]
     },
     "execution_count": 53,
     "metadata": {},
     "output_type": "execute_result"
    }
   ],
   "source": [
    "t1=('jazib','raghib','34','56')\n",
    "t1"
   ]
  },
  {
   "cell_type": "code",
   "execution_count": 54,
   "id": "a57c614f",
   "metadata": {},
   "outputs": [
    {
     "data": {
      "text/plain": [
       "tuple"
      ]
     },
     "execution_count": 54,
     "metadata": {},
     "output_type": "execute_result"
    }
   ],
   "source": [
    "type(t1)"
   ]
  },
  {
   "cell_type": "code",
   "execution_count": 55,
   "id": "e3f91f96",
   "metadata": {},
   "outputs": [
    {
     "data": {
      "text/plain": [
       "('zayan', 'wasay', 45, 67)"
      ]
     },
     "execution_count": 55,
     "metadata": {},
     "output_type": "execute_result"
    }
   ],
   "source": [
    "t2=('zayan','wasay',45,67)\n",
    "t2"
   ]
  },
  {
   "cell_type": "code",
   "execution_count": 56,
   "id": "eda6d922",
   "metadata": {},
   "outputs": [
    {
     "data": {
      "text/plain": [
       "('jazib', 'raghib', '34', '56', 'zayan', 'wasay', 45, 67)"
      ]
     },
     "execution_count": 56,
     "metadata": {},
     "output_type": "execute_result"
    }
   ],
   "source": [
    "t1+t2"
   ]
  },
  {
   "cell_type": "code",
   "execution_count": 57,
   "id": "0b8aab4c",
   "metadata": {},
   "outputs": [
    {
     "data": {
      "text/plain": [
       "('jazib', 'raghib', '34', '56', 'jazib', 'raghib', '34', '56')"
      ]
     },
     "execution_count": 57,
     "metadata": {},
     "output_type": "execute_result"
    }
   ],
   "source": [
    "t1*2"
   ]
  },
  {
   "cell_type": "code",
   "execution_count": 58,
   "id": "c2eed61e",
   "metadata": {},
   "outputs": [
    {
     "data": {
      "text/plain": [
       "('jazib', 'raghib', '34', '56')"
      ]
     },
     "execution_count": 58,
     "metadata": {},
     "output_type": "execute_result"
    }
   ],
   "source": [
    "t1"
   ]
  },
  {
   "cell_type": "code",
   "execution_count": 63,
   "id": "2d02b8cd",
   "metadata": {},
   "outputs": [
    {
     "data": {
      "text/plain": [
       "4"
      ]
     },
     "execution_count": 63,
     "metadata": {},
     "output_type": "execute_result"
    }
   ],
   "source": [
    "len(t1)"
   ]
  },
  {
   "cell_type": "code",
   "execution_count": 64,
   "id": "94c7506b",
   "metadata": {},
   "outputs": [
    {
     "data": {
      "text/plain": [
       "('jazib', 'raghib', '34', '56')"
      ]
     },
     "execution_count": 64,
     "metadata": {},
     "output_type": "execute_result"
    }
   ],
   "source": [
    "t1[0:4]"
   ]
  },
  {
   "cell_type": "code",
   "execution_count": 65,
   "id": "c8162fc2",
   "metadata": {},
   "outputs": [
    {
     "data": {
      "text/plain": [
       "1"
      ]
     },
     "execution_count": 65,
     "metadata": {},
     "output_type": "execute_result"
    }
   ],
   "source": [
    "t1.count('jazib') #count a element in tuple"
   ]
  },
  {
   "cell_type": "code",
   "execution_count": 66,
   "id": "edda7354",
   "metadata": {},
   "outputs": [
    {
     "data": {
      "text/plain": [
       "0"
      ]
     },
     "execution_count": 66,
     "metadata": {},
     "output_type": "execute_result"
    }
   ],
   "source": [
    "t1.index(\"jazib\") #returns index of an element"
   ]
  },
  {
   "cell_type": "code",
   "execution_count": null,
   "id": "858aa3ac",
   "metadata": {},
   "outputs": [],
   "source": []
  }
 ],
 "metadata": {
  "kernelspec": {
   "display_name": "Python 3 (ipykernel)",
   "language": "python",
   "name": "python3"
  },
  "language_info": {
   "codemirror_mode": {
    "name": "ipython",
    "version": 3
   },
   "file_extension": ".py",
   "mimetype": "text/x-python",
   "name": "python",
   "nbconvert_exporter": "python",
   "pygments_lexer": "ipython3",
   "version": "3.9.13"
  }
 },
 "nbformat": 4,
 "nbformat_minor": 5
}
