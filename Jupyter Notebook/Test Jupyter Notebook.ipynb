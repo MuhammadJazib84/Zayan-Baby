{
 "cells": [
  {
   "cell_type": "markdown",
   "id": "9d51b521",
   "metadata": {},
   "source": [
    "# Pythonkachila with baba ammar\n",
    "## How to use jupyter notebook\n",
    "### Our basics of Pyhton\n",
    "1- My First Program\n"
   ]
  },
  {
   "cell_type": "code",
   "execution_count": 1,
   "id": "bb3d33bf",
   "metadata": {},
   "outputs": [
    {
     "name": "stdout",
     "output_type": "stream",
     "text": [
      "5\n",
      "hello world\n",
      "we are fucking hard bc in life\n",
      "I am fucking tired of this shit please bring something better\n"
     ]
    }
   ],
   "source": [
    "# code in jupyter notebook\n",
    "print(2+3)\n",
    "print(\"hello world\")\n",
    "print(\"we are fucking hard bc in life\")\n",
    "print(\"I am fucking tired of this shit please bring something better\")"
   ]
  },
  {
   "cell_type": "markdown",
   "id": "c7c42581",
   "metadata": {},
   "source": [
    "**2- My Second Program Operators**"
   ]
  },
  {
   "cell_type": "code",
   "execution_count": 2,
   "id": "c54d60e5",
   "metadata": {},
   "outputs": [
    {
     "name": "stdout",
     "output_type": "stream",
     "text": [
      "-1\n",
      "9\n",
      "3\n",
      "1\n",
      "8\n",
      "24.0\n"
     ]
    }
   ],
   "source": [
    "print(2+1-4)\n",
    "print(11-2)\n",
    "print(6//2)\n",
    "print(13%2)\n",
    "print(2**3)\n",
    "print(2*3/4*4**2)\n",
    "\n"
   ]
  },
  {
   "cell_type": "markdown",
   "id": "0aaa72a5",
   "metadata": {},
   "source": [
    "*premdas*\n",
    "*prentheisis,exponents, multiplication, division, addition, subtration*\n",
    "*sequence will be left to right for multiplication, division, addition, subtration*"
   ]
  },
  {
   "cell_type": "markdown",
   "id": "a9224d52",
   "metadata": {},
   "source": [
    "**3- My Third Program Strings**"
   ]
  },
  {
   "cell_type": "code",
   "execution_count": 3,
   "id": "1326f00a",
   "metadata": {},
   "outputs": [
    {
     "name": "stdout",
     "output_type": "stream",
     "text": [
      "hello world\n",
      "hello fuck\n",
      "hello fuck\n",
      "hello fuck\n",
      "what's up\n",
      "hello\n",
      " hello      !\n"
     ]
    }
   ],
   "source": [
    "print('hello world')\n",
    "print(\"hello fuck\")\n",
    "print('hello fuck')\n",
    "print('''hello fuck''')\n",
    "print(\"what's up\")\n",
    "print( \"hello\")\n",
    "print(\" hello      !\" )"
   ]
  },
  {
   "cell_type": "markdown",
   "id": "ddc1c7ce",
   "metadata": {},
   "source": [
    "*we use double quotes when we have single quote in text always use \"\" and not '' '' when using double qoute* \n",
    "*further if there's any problem at any line whole code wont run*\n",
    "*for spaces in qotes matter outesie quotes in strings spaces dont matter*"
   ]
  },
  {
   "cell_type": "markdown",
   "id": "4d67f751",
   "metadata": {},
   "source": [
    "**4- My Fourth Program Coments**"
   ]
  },
  {
   "cell_type": "code",
   "execution_count": 4,
   "id": "1fc45c4f",
   "metadata": {},
   "outputs": [
    {
     "name": "stdout",
     "output_type": "stream",
     "text": [
      "how are you?\n",
      "we are fucking\n",
      "comment for check in line\n"
     ]
    }
   ],
   "source": [
    "print(\"how are you?\")\n",
    "print(\"we are fucking\")\n",
    "print(\"comment for check in line\") #this is to add comment"
   ]
  },
  {
   "cell_type": "markdown",
   "id": "1746da0a",
   "metadata": {},
   "source": [
    "are used to not run the codes or add comments by adding #or  ctrl+/ to comment out and by doing it again\n",
    "coment in\n",
    "print(\"hello fuck\")"
   ]
  },
  {
   "cell_type": "markdown",
   "id": "5fe5a1a1",
   "metadata": {},
   "source": [
    "**5- My Fifth Program-Variables**"
   ]
  },
  {
   "cell_type": "code",
   "execution_count": 5,
   "id": "31ba4067",
   "metadata": {},
   "outputs": [
    {
     "name": "stdout",
     "output_type": "stream",
     "text": [
      "5\n",
      "we are running\n",
      "15\n",
      "25\n",
      "<class 'int'>\n",
      "<class 'int'>\n",
      "<class 'str'>\n",
      "Mangoes, Mellons, Bananas\n",
      "('mangoe', 'oranges')\n",
      "<class 'tuple'>\n"
     ]
    }
   ],
   "source": [
    "# variables: objects contining specific values\n",
    "x=5 #is a variable\n",
    "print(x)\n",
    "y=\"we are running\" #vriable of a string\n",
    "print(y)\n",
    "x=15\n",
    "print(x)  #x wil take latest value, variables will run not as strings operators an be used run from up\n",
    "y=10+x #i.e y=25\n",
    "print(y) #got 25 in terminal\n",
    "c=\"fuck u\"\n",
    "#types of variables\n",
    "type(x)\n",
    "print(type(x)) #getting type of x # rreceied 'integer in terminal\n",
    "print(type(y)) #can be done direct without calling \n",
    "print(type(c)) #can be done for string\n",
    "fruit_basket=\"Mangoes, Mellons, Bananas\" #single string\n",
    "print(fruit_basket)\n",
    "fruit_basket=\"mangoe\",\"oranges\" #multiple strings \n",
    "#del fruit_basket #error not fruit basket as it del has deleted del function udated\n",
    "print(fruit_basket) \n",
    "print(type(fruit_basket))"
   ]
  },
  {
   "cell_type": "markdown",
   "id": "2e01bc02",
   "metadata": {},
   "source": [
    "rules to assign or objecting a variable\n",
    "1. variable should contain lettr, numbers or underscores\n",
    "2. do not start with numbers e.g it cant be 2y\n",
    "3. spaces are not allowed in variable names not in file name\n",
    "4.  dont use fuctional keywords as variable as mean, mode\n",
    "5.  use short and descritive\n",
    "6. variable names are case senstive suggestion use lower case"
   ]
  }
 ],
 "metadata": {
  "kernelspec": {
   "display_name": "Python 3 (ipykernel)",
   "language": "python",
   "name": "python3"
  },
  "language_info": {
   "codemirror_mode": {
    "name": "ipython",
    "version": 3
   },
   "file_extension": ".py",
   "mimetype": "text/x-python",
   "name": "python",
   "nbconvert_exporter": "python",
   "pygments_lexer": "ipython3",
   "version": "3.9.13"
  }
 },
 "nbformat": 4,
 "nbformat_minor": 5
}
